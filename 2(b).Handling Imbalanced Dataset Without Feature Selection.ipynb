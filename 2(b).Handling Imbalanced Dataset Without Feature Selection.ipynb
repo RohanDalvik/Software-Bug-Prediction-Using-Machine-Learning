{
 "cells": [
  {
   "cell_type": "code",
   "execution_count": 8,
   "metadata": {},
   "outputs": [],
   "source": [
    "import numpy as np\n",
    "import pandas as pd\n",
    "from sklearn.ensemble import RandomForestClassifier\n",
    "from sklearn.model_selection import train_test_split\n",
    "from sklearn.metrics import recall_score\n",
    "from imblearn.over_sampling import SMOTE,RandomOverSampler"
   ]
  },
  {
   "cell_type": "code",
   "execution_count": 9,
   "metadata": {},
   "outputs": [
    {
     "data": {
      "text/html": [
       "<div>\n",
       "<style scoped>\n",
       "    .dataframe tbody tr th:only-of-type {\n",
       "        vertical-align: middle;\n",
       "    }\n",
       "\n",
       "    .dataframe tbody tr th {\n",
       "        vertical-align: top;\n",
       "    }\n",
       "\n",
       "    .dataframe thead th {\n",
       "        text-align: right;\n",
       "    }\n",
       "</style>\n",
       "<table border=\"1\" class=\"dataframe\">\n",
       "  <thead>\n",
       "    <tr style=\"text-align: right;\">\n",
       "      <th></th>\n",
       "      <th>LOC_BLANK</th>\n",
       "      <th>BRANCH_COUNT</th>\n",
       "      <th>CALL_PAIRS</th>\n",
       "      <th>LOC_CODE_AND_COMMENT</th>\n",
       "      <th>LOC_COMMENTS</th>\n",
       "      <th>CONDITION_COUNT</th>\n",
       "      <th>CYCLOMATIC_COMPLEXITY</th>\n",
       "      <th>CYCLOMATIC_DENSITY</th>\n",
       "      <th>DECISION_COUNT</th>\n",
       "      <th>DECISION_DENSITY</th>\n",
       "      <th>...</th>\n",
       "      <th>NODE_COUNT</th>\n",
       "      <th>NORMALIZED_CYLOMATIC_COMPLEXITY</th>\n",
       "      <th>NUM_OPERANDS</th>\n",
       "      <th>NUM_OPERATORS</th>\n",
       "      <th>NUM_UNIQUE_OPERANDS</th>\n",
       "      <th>NUM_UNIQUE_OPERATORS</th>\n",
       "      <th>NUMBER_OF_LINES</th>\n",
       "      <th>PERCENT_COMMENTS</th>\n",
       "      <th>LOC_TOTAL</th>\n",
       "      <th>Defective</th>\n",
       "    </tr>\n",
       "  </thead>\n",
       "  <tbody>\n",
       "    <tr>\n",
       "      <th>0</th>\n",
       "      <td>6</td>\n",
       "      <td>9</td>\n",
       "      <td>2</td>\n",
       "      <td>1</td>\n",
       "      <td>0</td>\n",
       "      <td>16</td>\n",
       "      <td>5</td>\n",
       "      <td>0.20</td>\n",
       "      <td>8</td>\n",
       "      <td>2.0</td>\n",
       "      <td>...</td>\n",
       "      <td>14</td>\n",
       "      <td>0.16</td>\n",
       "      <td>19</td>\n",
       "      <td>44</td>\n",
       "      <td>15</td>\n",
       "      <td>15</td>\n",
       "      <td>32</td>\n",
       "      <td>4.00</td>\n",
       "      <td>25</td>\n",
       "      <td>N</td>\n",
       "    </tr>\n",
       "    <tr>\n",
       "      <th>1</th>\n",
       "      <td>15</td>\n",
       "      <td>7</td>\n",
       "      <td>3</td>\n",
       "      <td>1</td>\n",
       "      <td>19</td>\n",
       "      <td>12</td>\n",
       "      <td>4</td>\n",
       "      <td>0.13</td>\n",
       "      <td>6</td>\n",
       "      <td>2.0</td>\n",
       "      <td>...</td>\n",
       "      <td>15</td>\n",
       "      <td>0.06</td>\n",
       "      <td>51</td>\n",
       "      <td>90</td>\n",
       "      <td>32</td>\n",
       "      <td>27</td>\n",
       "      <td>67</td>\n",
       "      <td>39.22</td>\n",
       "      <td>32</td>\n",
       "      <td>Y</td>\n",
       "    </tr>\n",
       "    <tr>\n",
       "      <th>2</th>\n",
       "      <td>27</td>\n",
       "      <td>9</td>\n",
       "      <td>1</td>\n",
       "      <td>4</td>\n",
       "      <td>22</td>\n",
       "      <td>16</td>\n",
       "      <td>5</td>\n",
       "      <td>0.15</td>\n",
       "      <td>8</td>\n",
       "      <td>2.0</td>\n",
       "      <td>...</td>\n",
       "      <td>15</td>\n",
       "      <td>0.06</td>\n",
       "      <td>37</td>\n",
       "      <td>74</td>\n",
       "      <td>33</td>\n",
       "      <td>22</td>\n",
       "      <td>83</td>\n",
       "      <td>47.27</td>\n",
       "      <td>33</td>\n",
       "      <td>Y</td>\n",
       "    </tr>\n",
       "    <tr>\n",
       "      <th>3</th>\n",
       "      <td>7</td>\n",
       "      <td>3</td>\n",
       "      <td>2</td>\n",
       "      <td>0</td>\n",
       "      <td>0</td>\n",
       "      <td>4</td>\n",
       "      <td>2</td>\n",
       "      <td>0.17</td>\n",
       "      <td>2</td>\n",
       "      <td>2.0</td>\n",
       "      <td>...</td>\n",
       "      <td>6</td>\n",
       "      <td>0.10</td>\n",
       "      <td>9</td>\n",
       "      <td>14</td>\n",
       "      <td>7</td>\n",
       "      <td>10</td>\n",
       "      <td>20</td>\n",
       "      <td>0.00</td>\n",
       "      <td>12</td>\n",
       "      <td>N</td>\n",
       "    </tr>\n",
       "    <tr>\n",
       "      <th>4</th>\n",
       "      <td>51</td>\n",
       "      <td>25</td>\n",
       "      <td>13</td>\n",
       "      <td>0</td>\n",
       "      <td>14</td>\n",
       "      <td>48</td>\n",
       "      <td>13</td>\n",
       "      <td>0.12</td>\n",
       "      <td>24</td>\n",
       "      <td>2.0</td>\n",
       "      <td>...</td>\n",
       "      <td>85</td>\n",
       "      <td>0.08</td>\n",
       "      <td>192</td>\n",
       "      <td>229</td>\n",
       "      <td>71</td>\n",
       "      <td>20</td>\n",
       "      <td>172</td>\n",
       "      <td>11.67</td>\n",
       "      <td>106</td>\n",
       "      <td>N</td>\n",
       "    </tr>\n",
       "  </tbody>\n",
       "</table>\n",
       "<p>5 rows × 38 columns</p>\n",
       "</div>"
      ],
      "text/plain": [
       "   LOC_BLANK  BRANCH_COUNT  CALL_PAIRS  LOC_CODE_AND_COMMENT  LOC_COMMENTS  \\\n",
       "0          6             9           2                     1             0   \n",
       "1         15             7           3                     1            19   \n",
       "2         27             9           1                     4            22   \n",
       "3          7             3           2                     0             0   \n",
       "4         51            25          13                     0            14   \n",
       "\n",
       "   CONDITION_COUNT  CYCLOMATIC_COMPLEXITY  CYCLOMATIC_DENSITY  DECISION_COUNT  \\\n",
       "0               16                      5                0.20               8   \n",
       "1               12                      4                0.13               6   \n",
       "2               16                      5                0.15               8   \n",
       "3                4                      2                0.17               2   \n",
       "4               48                     13                0.12              24   \n",
       "\n",
       "   DECISION_DENSITY  ...  NODE_COUNT  NORMALIZED_CYLOMATIC_COMPLEXITY  \\\n",
       "0               2.0  ...          14                             0.16   \n",
       "1               2.0  ...          15                             0.06   \n",
       "2               2.0  ...          15                             0.06   \n",
       "3               2.0  ...           6                             0.10   \n",
       "4               2.0  ...          85                             0.08   \n",
       "\n",
       "   NUM_OPERANDS  NUM_OPERATORS  NUM_UNIQUE_OPERANDS  NUM_UNIQUE_OPERATORS  \\\n",
       "0            19             44                   15                    15   \n",
       "1            51             90                   32                    27   \n",
       "2            37             74                   33                    22   \n",
       "3             9             14                    7                    10   \n",
       "4           192            229                   71                    20   \n",
       "\n",
       "   NUMBER_OF_LINES  PERCENT_COMMENTS  LOC_TOTAL  Defective  \n",
       "0               32              4.00         25          N  \n",
       "1               67             39.22         32          Y  \n",
       "2               83             47.27         33          Y  \n",
       "3               20              0.00         12          N  \n",
       "4              172             11.67        106          N  \n",
       "\n",
       "[5 rows x 38 columns]"
      ]
     },
     "execution_count": 9,
     "metadata": {},
     "output_type": "execute_result"
    }
   ],
   "source": [
    "df=pd.read_csv('csv_result-CM1.csv')\n",
    "df.head()"
   ]
  },
  {
   "cell_type": "code",
   "execution_count": 10,
   "metadata": {},
   "outputs": [
    {
     "data": {
      "text/plain": [
       "(344, 38)"
      ]
     },
     "execution_count": 10,
     "metadata": {},
     "output_type": "execute_result"
    }
   ],
   "source": [
    "df.shape"
   ]
  },
  {
   "cell_type": "code",
   "execution_count": 11,
   "metadata": {},
   "outputs": [],
   "source": [
    "#### Independent and Dependent Features\n",
    "X=df.drop(\"Defective\",axis=1)\n",
    "y=df.Defective"
   ]
  },
  {
   "cell_type": "code",
   "execution_count": 12,
   "metadata": {},
   "outputs": [],
   "source": [
    "X_train,X_test,y_train,y_test=train_test_split(X,y,train_size=0.7)"
   ]
  },
  {
   "cell_type": "code",
   "execution_count": 13,
   "metadata": {},
   "outputs": [],
   "source": [
    "from imblearn.combine import SMOTETomek"
   ]
  },
  {
   "cell_type": "code",
   "execution_count": 14,
   "metadata": {},
   "outputs": [
    {
     "name": "stdout",
     "output_type": "stream",
     "text": [
      "The number of classes before fit Counter({'N': 211, 'Y': 29})\n",
      "The number of classes after fit Counter({'N': 211, 'Y': 158})\n"
     ]
    },
    {
     "name": "stderr",
     "output_type": "stream",
     "text": [
      "C:\\Users\\ROHAN KUMAR\\AppData\\Roaming\\Python\\Python38\\site-packages\\imblearn\\utils\\_validation.py:587: FutureWarning: Pass sampling_strategy=0.75 as keyword args. From version 0.9 passing these as positional arguments will result in an error\n",
      "  warnings.warn(\n"
     ]
    }
   ],
   "source": [
    "from collections import Counter\n",
    "os=RandomOverSampler(0.75)\n",
    "X_train_ns,y_train_ns=os.fit_resample(X_train,y_train)\n",
    "print(\"The number of classes before fit {}\".format(Counter(y_train)))\n",
    "print(\"The number of classes after fit {}\".format(Counter(y_train_ns)))"
   ]
  },
  {
   "cell_type": "code",
   "execution_count": 50,
   "metadata": {},
   "outputs": [
    {
     "data": {
      "text/plain": [
       "RandomForestClassifier()"
      ]
     },
     "execution_count": 50,
     "metadata": {},
     "output_type": "execute_result"
    }
   ],
   "source": [
    "from sklearn.ensemble import RandomForestClassifier\n",
    "classifier=RandomForestClassifier()\n",
    "classifier.fit(X_train_ns,y_train_ns)"
   ]
  },
  {
   "cell_type": "code",
   "execution_count": 51,
   "metadata": {},
   "outputs": [
    {
     "name": "stdout",
     "output_type": "stream",
     "text": [
      "[[84  7]\n",
      " [11  2]]\n",
      "0.8269230769230769\n",
      "              precision    recall  f1-score   support\n",
      "\n",
      "           N       0.88      0.92      0.90        91\n",
      "           Y       0.22      0.15      0.18        13\n",
      "\n",
      "    accuracy                           0.83       104\n",
      "   macro avg       0.55      0.54      0.54       104\n",
      "weighted avg       0.80      0.83      0.81       104\n",
      "\n"
     ]
    }
   ],
   "source": [
    "from sklearn.metrics import accuracy_score,confusion_matrix,classification_report\n",
    "\n",
    "y_pred=classifier.predict(X_test)\n",
    "print(confusion_matrix(y_test,y_pred))\n",
    "print(accuracy_score(y_test,y_pred))\n",
    "print(classification_report(y_test,y_pred))"
   ]
  },
  {
   "cell_type": "code",
   "execution_count": null,
   "metadata": {},
   "outputs": [],
   "source": []
  }
 ],
 "metadata": {
  "kernelspec": {
   "display_name": "Python 3",
   "language": "python",
   "name": "python3"
  },
  "language_info": {
   "codemirror_mode": {
    "name": "ipython",
    "version": 3
   },
   "file_extension": ".py",
   "mimetype": "text/x-python",
   "name": "python",
   "nbconvert_exporter": "python",
   "pygments_lexer": "ipython3",
   "version": "3.8.3"
  }
 },
 "nbformat": 4,
 "nbformat_minor": 4
}
